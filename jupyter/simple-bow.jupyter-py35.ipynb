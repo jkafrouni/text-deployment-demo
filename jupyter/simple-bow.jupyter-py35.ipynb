{
 "cells": [
  {
   "cell_type": "markdown",
   "metadata": {
    "deletable": true,
    "editable": true
   },
   "source": [
    "# Simple BoW + Logistic Regression model"
   ]
  },
  {
   "cell_type": "markdown",
   "metadata": {
    "deletable": true,
    "editable": true
   },
   "source": [
    "In this notebook we use the simplest approach: build Bag of Words features, and use them to train a Logistic Regression model. Everything is done in Scikit-Learn.\n",
    "\n",
    "Our dataset is made of IMDB movie reviews, and our target is binary, whether the movie review is positive or negative.\n",
    "\n",
    "Note that the main goal of this project is to showcase development and deployment practices within Watson Studio Local / Watson ML. Therefore, we did not spend much time fine tuning the model or trying different approaches."
   ]
  },
  {
   "cell_type": "code",
   "execution_count": 40,
   "metadata": {
    "collapsed": true,
    "deletable": true,
    "editable": true
   },
   "outputs": [],
   "source": [
    "# add scripts/ folder to path\n",
    "import os, sys\n",
    "\n",
    "SCRIPTS_PATH = os.environ['DSX_PROJECT_DIR'] + '/scripts'\n",
    "sys.path.insert(0, SCRIPTS_PATH)"
   ]
  },
  {
   "cell_type": "code",
   "execution_count": 2,
   "metadata": {
    "collapsed": true,
    "deletable": true,
    "editable": true,
    "hide_input": false
   },
   "outputs": [],
   "source": [
    "import pandas as pd\n",
    "import numpy as np\n",
    "%matplotlib inline\n",
    "import matplotlib.pyplot as plt\n",
    "\n",
    "import visualization # custom script"
   ]
  },
  {
   "cell_type": "code",
   "execution_count": 3,
   "metadata": {
    "collapsed": true,
    "deletable": true,
    "editable": true
   },
   "outputs": [],
   "source": [
    "DATASET_PATH = \"/user-home/libraries/text-analytics/datasets/aclImdb-small\"\n",
    "TRAIN_PATH = DATASET_PATH + \"/train/\"\n",
    "TEST_PATH = DATASET_PATH + \"/test/\""
   ]
  },
  {
   "cell_type": "markdown",
   "metadata": {
    "deletable": true,
    "editable": true
   },
   "source": [
    "## 0. Load files"
   ]
  },
  {
   "cell_type": "code",
   "execution_count": 4,
   "metadata": {
    "collapsed": true,
    "deletable": true,
    "editable": true
   },
   "outputs": [],
   "source": [
    "from sklearn.datasets import load_files"
   ]
  },
  {
   "cell_type": "code",
   "execution_count": 35,
   "metadata": {
    "collapsed": true,
    "deletable": true,
    "editable": true
   },
   "outputs": [],
   "source": [
    "reviews_train = load_files(TRAIN_PATH)"
   ]
  },
  {
   "cell_type": "code",
   "execution_count": 36,
   "metadata": {
    "collapsed": false,
    "deletable": true,
    "editable": true
   },
   "outputs": [
    {
     "name": "stdout",
     "output_type": "stream",
     "text": [
      "type of text_train: <class 'list'>\n",
      "length of text_train: 2000\n",
      "text_train[6]:\n",
      "b\"When I first saw this movie I was with my dad. He encouraged me to watch this movie because it was one of his favorites. After watching the movie it instantly became one of my favorites. <br /><br />A River Runs Through It is about two brothers who each take a different path in life. Norman Maclean (Craig Sheffer) is the older of the two brothers and he is set on the path of education. Paul Maclean (Brad Pitt) is the rebellious younger brother who travels on a path full of obstacles. The movie follows these characters as the each follow their own path.<br /><br />There is no downside to this movie. You will be entertained the whole way through. The acting, directing, and script is all perfect. The two things that are exceptional are the cinematography and the score. Both of which entrap you in the world Robert Redford creates for you. <br /><br />This is an all around great movie that is destined to be a classic. It sure is in my book. If you haven't seen this movie definitely watch it as soon as you can because it will stay with you forever.\"\n"
     ]
    }
   ],
   "source": [
    "# load_files returns a bunch, containing training texts and training labels\n",
    "text_train, y_train = reviews_train.data, reviews_train.target\n",
    "print(\"type of text_train: {}\".format(type(text_train)))\n",
    "print(\"length of text_train: {}\".format(len(text_train)))\n",
    "print(\"text_train[6]:\\n{}\".format(text_train[6]))"
   ]
  },
  {
   "cell_type": "code",
   "execution_count": 37,
   "metadata": {
    "collapsed": false,
    "deletable": true,
    "editable": true
   },
   "outputs": [],
   "source": [
    "reviews_test = load_files(TEST_PATH)"
   ]
  },
  {
   "cell_type": "code",
   "execution_count": 38,
   "metadata": {
    "collapsed": false,
    "deletable": true,
    "editable": true
   },
   "outputs": [
    {
     "name": "stdout",
     "output_type": "stream",
     "text": [
      "Number of documents in test data: 2000\n",
      "Samples per class (test): [1000 1000]\n"
     ]
    }
   ],
   "source": [
    "text_test, y_test = reviews_test.data, reviews_test.target\n",
    "print(\"Number of documents in test data: {}\".format(len(text_test)))\n",
    "print(\"Samples per class (test): {}\".format(np.bincount(y_test)))"
   ]
  },
  {
   "cell_type": "markdown",
   "metadata": {
    "deletable": true,
    "editable": true
   },
   "source": [
    "## 1. Preprocessing"
   ]
  },
  {
   "cell_type": "markdown",
   "metadata": {
    "deletable": true,
    "editable": true
   },
   "source": [
    "Even though the preprocessing is short and straightforward, we probably want to move this to a script at some point."
   ]
  },
  {
   "cell_type": "code",
   "execution_count": 39,
   "metadata": {
    "collapsed": false,
    "deletable": true,
    "editable": true
   },
   "outputs": [],
   "source": [
    "text_train = [doc.replace(b\"<br />\", b\" \").decode('utf-8') for doc in text_train]\n",
    "text_test = [doc.replace(b\"<br />\", b\" \").decode('utf-8') for doc in text_test]"
   ]
  },
  {
   "cell_type": "code",
   "execution_count": 10,
   "metadata": {
    "collapsed": false,
    "deletable": true,
    "editable": true
   },
   "outputs": [],
   "source": [
    "text_train = pd.DataFrame({\"review\": text_train})\n",
    "text_test = pd.DataFrame({\"review\": text_test})"
   ]
  },
  {
   "cell_type": "code",
   "execution_count": 11,
   "metadata": {
    "collapsed": false,
    "deletable": true,
    "editable": true
   },
   "outputs": [
    {
     "data": {
      "text/plain": [
       "array([0, 1])"
      ]
     },
     "execution_count": 11,
     "metadata": {},
     "output_type": "execute_result"
    }
   ],
   "source": [
    "np.unique(y_train)"
   ]
  },
  {
   "cell_type": "code",
   "execution_count": 12,
   "metadata": {
    "collapsed": false,
    "deletable": true,
    "editable": true
   },
   "outputs": [
    {
     "name": "stdout",
     "output_type": "stream",
     "text": [
      "Samples per class (training): [1000 1000]\n"
     ]
    }
   ],
   "source": [
    "print(\"Samples per class (training): {}\".format(np.bincount(y_train)))"
   ]
  },
  {
   "cell_type": "markdown",
   "metadata": {
    "deletable": true,
    "editable": true
   },
   "source": [
    "## 2. Feature Engineering"
   ]
  },
  {
   "cell_type": "code",
   "execution_count": 13,
   "metadata": {
    "collapsed": true,
    "deletable": true,
    "editable": true
   },
   "outputs": [],
   "source": [
    "from sklearn.feature_extraction.text import CountVectorizer\n",
    "from sklearn.pipeline import make_pipeline"
   ]
  },
  {
   "cell_type": "markdown",
   "metadata": {
    "deletable": true,
    "editable": true
   },
   "source": [
    "Note: We do this to understand the use of the vectorizer. We need to include the vectorizer in a pipeline in section 3. and retrain it there, so that the scoring endpoint includes the vectorizer itself (so we can pass text directly when calling the endpoint)."
   ]
  },
  {
   "cell_type": "code",
   "execution_count": 14,
   "metadata": {
    "collapsed": false,
    "deletable": true,
    "editable": true,
    "scrolled": true
   },
   "outputs": [
    {
     "name": "stdout",
     "output_type": "stream",
     "text": [
      "X_train:\n",
      "<2000x23032 sparse matrix of type '<class 'numpy.int64'>'\n",
      "\twith 272320 stored elements in Compressed Sparse Row format>\n"
     ]
    }
   ],
   "source": [
    "vect = CountVectorizer().fit(text_train.review)\n",
    "X_train = vect.transform(text_train.review)\n",
    "print(\"X_train:\\n{}\".format(repr(X_train)))"
   ]
  },
  {
   "cell_type": "code",
   "execution_count": 15,
   "metadata": {
    "collapsed": false,
    "deletable": true,
    "editable": true
   },
   "outputs": [
    {
     "name": "stdout",
     "output_type": "stream",
     "text": [
      "Number of features: 23032\n",
      "First 20 features:\n",
      "['00', '000', '000s', '007', '0079', '0080', '0083', '00pm', '00s', '01', '02', '06', '08', '09', '0s', '10', '100', '1000', '10000000000000', '101']\n",
      "Features 20010 to 20030:\n",
      "['survivors', 'susan', 'susannah', 'susceptible', 'suspect', 'suspected', 'suspects', 'suspend', 'suspended', 'suspending', 'suspends', 'suspense', 'suspenseful', 'suspension', 'suspicion', 'suspicions', 'suspicious', 'suspiciously', 'sustain', 'sustained']\n",
      "Every 2000th feature:\n",
      "['00', 'bedding', 'coddling', 'disqualify', 'floriane', 'hun', 'liu', 'obligingly', 'puppet', 'selflessness', 'surroundings', 'viewable']\n"
     ]
    }
   ],
   "source": [
    "feature_names = vect.get_feature_names()\n",
    "print(\"Number of features: {}\".format(len(feature_names)))\n",
    "print(\"First 20 features:\\n{}\".format(feature_names[:20]))\n",
    "print(\"Features 20010 to 20030:\\n{}\".format(feature_names[20010:20030]))\n",
    "print(\"Every 2000th feature:\\n{}\".format(feature_names[::2000]))"
   ]
  },
  {
   "cell_type": "markdown",
   "metadata": {
    "deletable": true,
    "editable": true
   },
   "source": [
    "## 3. Build model"
   ]
  },
  {
   "cell_type": "markdown",
   "metadata": {
    "deletable": true,
    "editable": true
   },
   "source": [
    "### 3.1 Simple LogisticRegression, not tuned"
   ]
  },
  {
   "cell_type": "code",
   "execution_count": 16,
   "metadata": {
    "collapsed": false,
    "deletable": true,
    "editable": true
   },
   "outputs": [],
   "source": [
    "from sklearn.model_selection import cross_val_score\n",
    "from sklearn.linear_model import LogisticRegression\n",
    "from sklearn.preprocessing import FunctionTransformer"
   ]
  },
  {
   "cell_type": "markdown",
   "metadata": {},
   "source": [
    "**Important note: The FunctionTransformer trick**\n",
    "\n",
    "The CountVectorizer need to take an iterable over text as input. Yet, when we deploy our model, the endpoint will wrap the data that we send in a DataFrame, and the CountVectorizer won't be able to process it correctly. Therefore, we make sure to add as a first step of the pipeline a function that takes as input a pandas dataframe and selects the column \"review\".\n",
    "\n",
    "To do that, we use the DataFrame's method .get(), instead of using for example a lambda function (e.g. *lambda x: x['review']*). The reason for that is that for model persistence, scikit-learn uses either pickle or joblib, and in both cases, any user-defined function that is called within a pipeline will fail when the model is loaded in another environment: In other words, you should always use methods that are either from the sklearn package or from any package that comes pre-installed, as specified [in the docs](https://dataplatform.cloud.ibm.com/docs/content/wsj/analyze-data/pm_service_supported_frameworks.html)"
   ]
  },
  {
   "cell_type": "code",
   "execution_count": 17,
   "metadata": {
    "collapsed": false,
    "deletable": true,
    "editable": true
   },
   "outputs": [
    {
     "name": "stdout",
     "output_type": "stream",
     "text": [
      "Mean cross-validation accuracy: 0.87\n"
     ]
    }
   ],
   "source": [
    "pipe = make_pipeline(FunctionTransformer(pd.DataFrame.get, kw_args={'key':'review'}, validate=False), CountVectorizer(), LogisticRegression())\n",
    "scores = cross_val_score(pipe, text_train, y_train, cv=5)\n",
    "print(\"Mean cross-validation accuracy: {:.2f}\".format(np.mean(scores)))"
   ]
  },
  {
   "cell_type": "code",
   "execution_count": 18,
   "metadata": {
    "collapsed": false,
    "deletable": true,
    "editable": true
   },
   "outputs": [
    {
     "data": {
      "text/plain": [
       "Pipeline(memory=None,\n",
       "     steps=[('functiontransformer', FunctionTransformer(accept_sparse=False,\n",
       "          func=<function NDFrame.get at 0x7f927d839a60>, inv_kw_args=None,\n",
       "          inverse_func=None, kw_args={'key': 'review'},\n",
       "          pass_y='deprecated', validate=False)), ('countvectorizer', CountVectorizer(analyzer='wo...ty='l2', random_state=None, solver='liblinear', tol=0.0001,\n",
       "          verbose=0, warm_start=False))])"
      ]
     },
     "execution_count": 18,
     "metadata": {},
     "output_type": "execute_result"
    }
   ],
   "source": [
    "pipe.fit(text_train, y_train)"
   ]
  },
  {
   "cell_type": "markdown",
   "metadata": {
    "deletable": true,
    "editable": true
   },
   "source": [
    "### 3.2 Grid Search for Logistic Regression"
   ]
  },
  {
   "cell_type": "code",
   "execution_count": 19,
   "metadata": {
    "collapsed": true,
    "deletable": true,
    "editable": true
   },
   "outputs": [],
   "source": [
    "from sklearn.model_selection import GridSearchCV"
   ]
  },
  {
   "cell_type": "code",
   "execution_count": 20,
   "metadata": {
    "collapsed": false,
    "deletable": true,
    "editable": true
   },
   "outputs": [
    {
     "name": "stdout",
     "output_type": "stream",
     "text": [
      "Best cross-validation score: 0.87\n",
      "Best parameters:  {'logisticregression__C': 1}\n"
     ]
    }
   ],
   "source": [
    "param_grid = {'logisticregression__C': [0.001, 0.01, 0.1, 1, 10]}\n",
    "grid = GridSearchCV(pipe, param_grid, cv=5)\n",
    "grid.fit(text_train, y_train)\n",
    "print(\"Best cross-validation score: {:.2f}\".format(grid.best_score_))\n",
    "print(\"Best parameters: \", grid.best_params_)"
   ]
  },
  {
   "cell_type": "code",
   "execution_count": 21,
   "metadata": {
    "collapsed": false,
    "deletable": true,
    "editable": true
   },
   "outputs": [
    {
     "name": "stdout",
     "output_type": "stream",
     "text": [
      "Test score: 0.82\n"
     ]
    }
   ],
   "source": [
    "print(\"Test score: {:.2f}\".format(grid.score(text_test, y_test)))"
   ]
  },
  {
   "cell_type": "code",
   "execution_count": 22,
   "metadata": {
    "collapsed": true,
    "deletable": true,
    "editable": true
   },
   "outputs": [],
   "source": [
    "model = grid.best_estimator_"
   ]
  },
  {
   "cell_type": "markdown",
   "metadata": {
    "deletable": true,
    "editable": true
   },
   "source": [
    "### 3.3 Investigating model coefficients"
   ]
  },
  {
   "cell_type": "code",
   "execution_count": 23,
   "metadata": {
    "collapsed": false,
    "deletable": true,
    "editable": true
   },
   "outputs": [
    {
     "data": {
      "image/png": "[encoded data removed]",
      "text/plain": [
       "<Figure size 1080x360 with 1 Axes>"
      ]
     },
     "metadata": {
      "needs_background": "light"
     },
     "output_type": "display_data"
    }
   ],
   "source": [
    "visualization.visualize_coefficients(\n",
    "    model.steps[-1][1].coef_,\n",
    "    feature_names, n_top_features=40)"
   ]
  },
  {
   "cell_type": "markdown",
   "metadata": {
    "deletable": true,
    "editable": true
   },
   "source": [
    "## 4. Store model"
   ]
  },
  {
   "cell_type": "markdown",
   "metadata": {
    "deletable": true,
    "editable": true
   },
   "source": [
    "### 4.1 Save model in ML repository"
   ]
  },
  {
   "cell_type": "code",
   "execution_count": 24,
   "metadata": {
    "collapsed": true,
    "deletable": true,
    "editable": true
   },
   "outputs": [],
   "source": [
    "from dsx_ml.ml import save"
   ]
  },
  {
   "cell_type": "code",
   "execution_count": 25,
   "metadata": {
    "collapsed": false,
    "deletable": true,
    "editable": true,
    "scrolled": true
   },
   "outputs": [
    {
     "name": "stderr",
     "output_type": "stream",
     "text": [
      "Using TensorFlow backend.\n"
     ]
    },
    {
     "name": "stdout",
     "output_type": "stream",
     "text": [
      "{'path': '/user-home/1055/DSX_Projects/text-deployment-demo/models/simple-bow/2', 'scoring_endpoint': 'https://dsxl-api/v3/project/score/Python35/scikit-learn-0.19/text-deployment-demo/simple-bow/2'}\n"
     ]
    }
   ],
   "source": [
    "deployment_info = save(name='simple-bow',\n",
    "                        model=pipe,\n",
    "                        x_test=text_test, # can't use that if doing option 2\n",
    "                        y_test=pd.DataFrame({\"pos\": y_test}),\n",
    "                        algorithm_type='Classification',\n",
    "                        description='This is the first simple bag of words model with logistic regression.',\n",
    "                        source='simple-bow.ipynb')\n",
    "print(deployment_info)"
   ]
  },
  {
   "cell_type": "markdown",
   "metadata": {
    "deletable": true,
    "editable": true
   },
   "source": [
    "**Useful note**: The very first version we pushed was simple-bow, that used a sparse matrix representing bag-of-words features as its input. In a second iteration, we created a pipeline and put the vectorization part inside this pipeline so that the model now takes raw text as input. As a result, we can't just save the model as a new version after this iteration (simple-bow v2), we need to save it as a different model (simple-bow-pipe): this happens whenever you **change the number of features** or **change the feature names**, or **use a different version of your ML framework**."
   ]
  },
  {
   "cell_type": "markdown",
   "metadata": {
    "deletable": true,
    "editable": true
   },
   "source": [
    "Once this is called, the model shows up in the *\"Models\"* section of WSL, in version v1."
   ]
  },
  {
   "cell_type": "markdown",
   "metadata": {
    "deletable": true,
    "editable": true
   },
   "source": [
    "### 4.2 Test model in Models UI"
   ]
  },
  {
   "cell_type": "markdown",
   "metadata": {
    "deletable": true,
    "editable": true
   },
   "source": [
    "- Save the notebook and switch to the Models tab of the project.\n",
    "- Under Models, find and click into your saved model.\n",
    "- Click the Real-time score link to test the model."
   ]
  },
  {
   "cell_type": "markdown",
   "metadata": {
    "deletable": true,
    "editable": true
   },
   "source": [
    "### 4.3 Test model with REST API call"
   ]
  },
  {
   "cell_type": "code",
   "execution_count": 26,
   "metadata": {
    "collapsed": true,
    "deletable": true,
    "editable": true
   },
   "outputs": [],
   "source": [
    "import requests"
   ]
  },
  {
   "cell_type": "code",
   "execution_count": 27,
   "metadata": {
    "collapsed": false,
    "deletable": true,
    "editable": true
   },
   "outputs": [],
   "source": [
    "json_payload = [{\n",
    "    \"review\": \"Awesome movie\"\n",
    "}]"
   ]
  },
  {
   "cell_type": "code",
   "execution_count": 28,
   "metadata": {
    "collapsed": false,
    "deletable": true,
    "editable": true
   },
   "outputs": [],
   "source": [
    "header_online = {'Content-Type': 'application/json', 'Authorization': os.environ['DSX_TOKEN']}\n",
    "\n",
    "response_scoring = requests.post(deployment_info['scoring_endpoint'], json=json_payload, headers=header_online)"
   ]
  },
  {
   "cell_type": "code",
   "execution_count": 29,
   "metadata": {
    "collapsed": false,
    "deletable": true,
    "editable": true
   },
   "outputs": [
    {
     "name": "stdout",
     "output_type": "stream",
     "text": [
      "Prediction = 1\n",
      "Probabilities = [0.4097536610984577, 0.5902463389015423]\n"
     ]
    }
   ],
   "source": [
    "prediction = response_scoring.json()['object']['output']['predictions'][0]\n",
    "print ('Prediction = {}'.format(prediction))\n",
    "probabilities = response_scoring.json()['object']['output']['probabilities'][0]\n",
    "print ('Probabilities = {}'.format(probabilities))"
   ]
  },
  {
   "cell_type": "markdown",
   "metadata": {},
   "source": [
    "## 5. Evaluation"
   ]
  },
  {
   "cell_type": "markdown",
   "metadata": {},
   "source": [
    "### 5.1 Automatically, when model is saved"
   ]
  },
  {
   "cell_type": "markdown",
   "metadata": {},
   "source": [
    "Since we submitted the test dataframe when saving the model, the model will be automatically evaluated for each version we save and the result will appear on the \"Accurcy History\" chart of the model.\n",
    "\n",
    "<img style=\"float: left;\" src=\"https://i.imgur.com/TD6lz0d.png\" alt=\"Step 3 - Modify custom script: switch to transform()\" width=900 />"
   ]
  },
  {
   "cell_type": "markdown",
   "metadata": {},
   "source": [
    "### 5.2 Generate evaluation script"
   ]
  },
  {
   "cell_type": "markdown",
   "metadata": {},
   "source": [
    "First, we export the test dataset as a csv file in the '/datasets' folder:"
   ]
  },
  {
   "cell_type": "code",
   "execution_count": 49,
   "metadata": {
    "collapsed": false,
    "scrolled": true
   },
   "outputs": [],
   "source": [
    "pd.DataFrame({'review': text_test, 'pos': y_test}).to_csv(\"../datasets/test.csv\")"
   ]
  },
  {
   "cell_type": "markdown",
   "metadata": {},
   "source": [
    "We can now go to the Evaluation section of the model, in the UI, and generate a script that uses this dataset. There, we choose the evaluation metric that we are interested in as well as the threshold for which we consider the model to be good enough. We can choose to run it once, or schedule it so it is run periodically.\n",
    "\n",
    "<img style=\"float: left;\" src=\"https://i.imgur.com/yXM31Tg.png\" alt=\"Step 3 - Modify custom script: switch to transform()\" width=900 />"
   ]
  }
 ],
 "metadata": {
  "anaconda-cloud": {},
  "kernelspec": {
   "display_name": "Python3.5 with Watson Studio Spark 2.2.1",
   "language": "python",
   "name": "python3"
  },
  "language_info": {
   "codemirror_mode": {
    "name": "ipython",
    "version": 3
   },
   "file_extension": ".py",
   "mimetype": "text/x-python",
   "name": "python",
   "nbconvert_exporter": "python",
   "pygments_lexer": "ipython3",
   "version": "3.5.5"
  }
 },
 "nbformat": 4,
 "nbformat_minor": 1
}
