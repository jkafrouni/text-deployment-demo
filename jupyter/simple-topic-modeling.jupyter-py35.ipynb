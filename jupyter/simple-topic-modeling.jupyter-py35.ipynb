{
 "cells": [
  {
   "cell_type": "markdown",
   "metadata": {
    "deletable": true,
    "editable": true
   },
   "source": [
    "# Topic Modeling and Document Clustering"
   ]
  },
  {
   "cell_type": "markdown",
   "metadata": {
    "deletable": true,
    "editable": true
   },
   "source": [
    "Examples of unsupervised learning on documents. "
   ]
  },
  {
   "cell_type": "code",
   "execution_count": 1,
   "metadata": {
    "collapsed": true,
    "deletable": true,
    "editable": true
   },
   "outputs": [],
   "source": [
    "# add scripts/ folder to path\n",
    "import os, sys\n",
    "\n",
    "SCRIPTS_PATH = os.environ['DSX_PROJECT_DIR'] + '/scripts'\n",
    "sys.path.insert(0, SCRIPTS_PATH)"
   ]
  },
  {
   "cell_type": "code",
   "execution_count": 2,
   "metadata": {
    "collapsed": true,
    "deletable": true,
    "editable": true
   },
   "outputs": [],
   "source": [
    "# sys.path.insert(0, '../scripts')"
   ]
  },
  {
   "cell_type": "code",
   "execution_count": 3,
   "metadata": {
    "collapsed": true,
    "deletable": true,
    "editable": true
   },
   "outputs": [],
   "source": [
    "import pandas as pd\n",
    "import numpy as np\n",
    "%matplotlib inline\n",
    "import matplotlib.pyplot as plt\n",
    "\n",
    "import visualization # custom script"
   ]
  },
  {
   "cell_type": "code",
   "execution_count": 4,
   "metadata": {
    "collapsed": true,
    "deletable": true,
    "editable": true
   },
   "outputs": [],
   "source": [
    "DATASET_PATH = \"/user-home/libraries/text-analytics/datasets/aclImdb\"\n",
    "TRAIN_PATH = DATASET_PATH + \"/train/\"\n",
    "TEST_PATH = DATASET_PATH + \"/test/\""
   ]
  },
  {
   "cell_type": "code",
   "execution_count": 5,
   "metadata": {
    "collapsed": true,
    "deletable": true,
    "editable": true
   },
   "outputs": [],
   "source": [
    "# DATASET_PATH = \"../datasets/aclImdb\"\n",
    "# TRAIN_PATH = DATASET_PATH + \"/train/\"\n",
    "# TEST_PATH = DATASET_PATH + \"/test/\""
   ]
  },
  {
   "cell_type": "markdown",
   "metadata": {
    "deletable": true,
    "editable": true
   },
   "source": [
    "## 0. Load files"
   ]
  },
  {
   "cell_type": "code",
   "execution_count": 6,
   "metadata": {
    "collapsed": true,
    "deletable": true,
    "editable": true
   },
   "outputs": [],
   "source": [
    "from sklearn.datasets import load_files"
   ]
  },
  {
   "cell_type": "markdown",
   "metadata": {
    "deletable": true,
    "editable": true
   },
   "source": [
    "We only load the training data, without labels, and consider it as unlabeled data:"
   ]
  },
  {
   "cell_type": "code",
   "execution_count": 7,
   "metadata": {
    "collapsed": false,
    "deletable": true,
    "editable": true
   },
   "outputs": [
    {
     "name": "stdout",
     "output_type": "stream",
     "text": [
      "type of text_train: <class 'list'>\n",
      "length of text_train: 25000\n"
     ]
    }
   ],
   "source": [
    "reviews_train = load_files(TRAIN_PATH)\n",
    "text_train = reviews_train.data\n",
    "print(\"type of text_train: {}\".format(type(text_train)))\n",
    "print(\"length of text_train: {}\".format(len(text_train)))"
   ]
  },
  {
   "cell_type": "markdown",
   "metadata": {
    "deletable": true,
    "editable": true
   },
   "source": [
    "## 1. Preprocessing"
   ]
  },
  {
   "cell_type": "markdown",
   "metadata": {
    "deletable": true,
    "editable": true
   },
   "source": [
    "Even though the preprocessing is short and straightforward, we probably want to move this to a script at some point."
   ]
  },
  {
   "cell_type": "code",
   "execution_count": 8,
   "metadata": {
    "collapsed": true,
    "deletable": true,
    "editable": true
   },
   "outputs": [],
   "source": [
    "text_train = [doc.replace(b\"<br />\", b\" \").decode('utf-8') for doc in text_train]"
   ]
  },
  {
   "cell_type": "code",
   "execution_count": 9,
   "metadata": {
    "collapsed": true,
    "deletable": true,
    "editable": true
   },
   "outputs": [],
   "source": [
    "text_train = pd.DataFrame({\"review\": text_train, \"sentiment\": reviews_train.target})"
   ]
  },
  {
   "cell_type": "markdown",
   "metadata": {
    "deletable": true,
    "editable": true
   },
   "source": [
    "## 2. Feature Engineering"
   ]
  },
  {
   "cell_type": "code",
   "execution_count": 10,
   "metadata": {
    "collapsed": true,
    "deletable": true,
    "editable": true
   },
   "outputs": [],
   "source": [
    "from sklearn.feature_extraction.text import CountVectorizer\n",
    "from sklearn.pipeline import make_pipeline"
   ]
  },
  {
   "cell_type": "markdown",
   "metadata": {
    "deletable": true,
    "editable": true
   },
   "source": [
    "We limit the number of features to speed up the topic modeling."
   ]
  },
  {
   "cell_type": "code",
   "execution_count": 11,
   "metadata": {
    "collapsed": false,
    "deletable": true,
    "editable": true
   },
   "outputs": [
    {
     "name": "stdout",
     "output_type": "stream",
     "text": [
      "X_train:\n",
      "<25000x10000 sparse matrix of type '<class 'numpy.int64'>'\n",
      "\twith 1948677 stored elements in Compressed Sparse Row format>\n"
     ]
    }
   ],
   "source": [
    "vect = CountVectorizer(max_features=10000, max_df=.15)\n",
    "X_train = vect.fit_transform(text_train.review)\n",
    "print(\"X_train:\\n{}\".format(repr(X_train)))"
   ]
  },
  {
   "cell_type": "code",
   "execution_count": 12,
   "metadata": {
    "collapsed": false,
    "deletable": true,
    "editable": true
   },
   "outputs": [
    {
     "name": "stdout",
     "output_type": "stream",
     "text": [
      "Number of features: 10000\n",
      "First 20 features:\n",
      "['00', '000', '10', '100', '1000', '101', '11', '12', '13', '13th', '14', '15', '150', '16', '17', '18', '18th', '19', '1920', '1920s']\n",
      "Features 20010 to 20030:\n",
      "[]\n",
      "Every 2000th feature:\n",
      "['00', 'conroy', 'graphic', 'named', 'sharp']\n"
     ]
    }
   ],
   "source": [
    "feature_names = vect.get_feature_names()\n",
    "print(\"Number of features: {}\".format(len(feature_names)))\n",
    "print(\"First 20 features:\\n{}\".format(feature_names[:20]))\n",
    "print(\"Features 20010 to 20030:\\n{}\".format(feature_names[20010:20030]))\n",
    "print(\"Every 2000th feature:\\n{}\".format(feature_names[::2000]))"
   ]
  },
  {
   "cell_type": "markdown",
   "metadata": {
    "deletable": true,
    "editable": true
   },
   "source": [
    "## 3. Build model"
   ]
  },
  {
   "cell_type": "markdown",
   "metadata": {
    "deletable": true,
    "editable": true
   },
   "source": [
    "### 3.1 Latent Dirichlet Allocation (LDA), 10 topics"
   ]
  },
  {
   "cell_type": "markdown",
   "metadata": {
    "deletable": true,
    "editable": true
   },
   "source": [
    "Training LDA on the full data is very slow, and training it on a subset of the data gives \"bad\" topics: instead, we only perform NMF -> see section 3.2"
   ]
  },
  {
   "cell_type": "code",
   "execution_count": 13,
   "metadata": {
    "collapsed": true,
    "deletable": true,
    "editable": true
   },
   "outputs": [],
   "source": [
    "from sklearn.decomposition import LatentDirichletAllocation"
   ]
  },
  {
   "cell_type": "code",
   "execution_count": 14,
   "metadata": {
    "collapsed": true,
    "deletable": true,
    "editable": true,
    "scrolled": false
   },
   "outputs": [],
   "source": [
    "# %%time\n",
    "# lda = LatentDirichletAllocation(n_components=10, learning_method=\"batch\",\n",
    "#                                 max_iter=25, random_state=0)\n",
    "# document_topics = lda.fit_transform(X_train)\n",
    "# print(\"lda.components_.shape: {}\".format(lda.components_.shape))"
   ]
  },
  {
   "cell_type": "code",
   "execution_count": 15,
   "metadata": {
    "collapsed": true,
    "deletable": true,
    "editable": true
   },
   "outputs": [],
   "source": [
    "# # for each topic (a row in the components_), sort the features (ascending).\n",
    "# # Invert rows with [:, ::-1] to make sorting descending\n",
    "# sorting = np.argsort(lda.components_, axis=1)[:, ::-1]\n",
    "# # get the feature names from the vectorizer:\n",
    "# feature_names = np.array(vect.get_feature_names())"
   ]
  },
  {
   "cell_type": "markdown",
   "metadata": {
    "deletable": true,
    "editable": true
   },
   "source": [
    "#### Explore the topics:"
   ]
  },
  {
   "cell_type": "code",
   "execution_count": 16,
   "metadata": {
    "collapsed": true,
    "deletable": true,
    "editable": true
   },
   "outputs": [],
   "source": [
    "# # Print out the 10 topics:\n",
    "# visualization.print_topics(topics=range(10), feature_names=feature_names,\n",
    "#                            sorting=sorting, topics_per_chunk=5, n_words=10)"
   ]
  },
  {
   "cell_type": "markdown",
   "metadata": {
    "deletable": true,
    "editable": true
   },
   "source": [
    "### 3.2 Non-Negative Matrix Factorization (NMF), 10 topics"
   ]
  },
  {
   "cell_type": "code",
   "execution_count": 14,
   "metadata": {
    "collapsed": true,
    "deletable": true,
    "editable": true
   },
   "outputs": [],
   "source": [
    "from sklearn.decomposition import NMF\n",
    "from sklearn.preprocessing import FunctionTransformer"
   ]
  },
  {
   "cell_type": "markdown",
   "metadata": {},
   "source": [
    "**With pipe:**"
   ]
  },
  {
   "cell_type": "code",
   "execution_count": 17,
   "metadata": {
    "collapsed": true
   },
   "outputs": [],
   "source": [
    "pipe = make_pipeline(FunctionTransformer(pd.DataFrame.get, kw_args={'key':'review'}, validate=False),\n",
    "                     CountVectorizer(max_features=10000, max_df=.15),\n",
    "                     NMF(n_components=10, max_iter=25, random_state=0))\n",
    "nmf = pipe.steps[2][1]\n",
    "vect = pipe.steps[1][1]"
   ]
  },
  {
   "cell_type": "code",
   "execution_count": 18,
   "metadata": {
    "collapsed": false
   },
   "outputs": [
    {
     "name": "stdout",
     "output_type": "stream",
     "text": [
      "nmf.components_.shape: (10, 10000)\n",
      "CPU times: user 10.5 s, sys: 10.3 s, total: 20.9 s\n",
      "Wall time: 9.16 s\n"
     ]
    }
   ],
   "source": [
    "%%time\n",
    "document_topics_nmf = pipe.fit_transform(text_train)\n",
    "print(\"nmf.components_.shape: {}\".format(nmf.components_.shape))"
   ]
  },
  {
   "cell_type": "markdown",
   "metadata": {
    "deletable": true,
    "editable": true
   },
   "source": [
    "#### Explore the topics"
   ]
  },
  {
   "cell_type": "code",
   "execution_count": 20,
   "metadata": {
    "collapsed": true
   },
   "outputs": [],
   "source": [
    "# for each topic (a row in the components_), sort the features (ascending).\n",
    "# Invert rows with [:, ::-1] to make sorting descending\n",
    "sorting_nmf = np.argsort(nmf.components_, axis=1)[:, ::-1]\n",
    "feature_names = np.array(vect.get_feature_names())"
   ]
  },
  {
   "cell_type": "code",
   "execution_count": 21,
   "metadata": {
    "collapsed": false,
    "deletable": true,
    "editable": true
   },
   "outputs": [
    {
     "name": "stdout",
     "output_type": "stream",
     "text": [
      "topic 0       topic 1       topic 2       topic 3       topic 4       \n",
      "--------      --------      --------      --------      --------      \n",
      "director      show          re            series        horror        \n",
      "work          shows         thing         original      house         \n",
      "role          episode       nothing       episode       gore          \n",
      "performance   tv            didn          new           blood         \n",
      "quite         season        going         episodes      zombie        \n",
      "cast          episodes      guy           tv            effects       \n",
      "though        television    actually      season        budget        \n",
      "actors        funny         doesn         years         dead          \n",
      "however       always        minutes       batman        scary         \n",
      "both          real          want          star          killer        \n",
      "\n",
      "\n",
      "topic 5       topic 6       topic 7       topic 8       topic 9       \n",
      "--------      --------      --------      --------      --------      \n",
      "us            match         family        book          10            \n",
      "world         rock          young         jane          funny         \n",
      "war           ring          old           version       comedy        \n",
      "our           angle         father        read          years         \n",
      "real          taker         woman         novel         music         \n",
      "american      got           mother        rochester     old           \n",
      "own           big           wife          eyre          saw           \n",
      "human         championship  girl          original      give          \n",
      "new           vs            years         adaptation    fun           \n",
      "point         down          son           dalton        year          \n",
      "\n",
      "\n"
     ]
    }
   ],
   "source": [
    "# Print out the 10 topics:\n",
    "visualization.print_topics(topics=range(10), feature_names=feature_names,\n",
    "                           sorting=sorting_nmf, topics_per_chunk=5, n_words=10)"
   ]
  },
  {
   "cell_type": "markdown",
   "metadata": {
    "deletable": true,
    "editable": true
   },
   "source": [
    "From these topic descriptions, the NMF was able to pick up on a few obvious trends given these parameters. First, Topic 4 seems to encompass reviews on horror movies. Below we print snippets from the most important reviews in the horror category. Modify the ```num_doc``` variable to preview more samples."
   ]
  },
  {
   "cell_type": "code",
   "execution_count": 22,
   "metadata": {
    "collapsed": false,
    "deletable": true,
    "editable": true,
    "scrolled": false
   },
   "outputs": [
    {
     "name": "stdout",
     "output_type": "stream",
     "text": [
      "Most important reviews in HORROR topic:\n",
      "1. Horror omnibus films were popular in the seventies. I'm not very fond of them myself, but this one is an undeniably excellent slice of British horror cinema. The House That Dripped Blood is a horror o...\n",
      "\n",
      "2. The British production company Amicus is generally known as the specialist for horror anthologies, and this great omnibus called \"The House That Dripped Blood\" is doubtlessly the finest Amicus product...\n",
      "\n",
      "3. Four tales of terror regarding the events at a creepy old mansion are recounted to sceptical Scotland Yard investigator Holloway (John Bennett) as he investigates the whereabouts of the latest occupan...\n",
      "\n",
      "4. There is no doubt that during the decade of the 30s, the names of Boris Karloff and Bela Lugosi became a sure guarantee of excellent performances in high quality horror films. After being Universal's ...\n",
      "\n",
      "5. I have just recently been through a stage where I wanted to see why it is that horror films of the 90's can't hold a candle to 70's and 80's horror films. I have been very public in this forum about t...\n",
      "\n"
     ]
    }
   ],
   "source": [
    "# sort by weight of \"Horror\" topic 4\n",
    "top_horror = np.argsort(document_topics_nmf[:, 4])[::-1]\n",
    "\n",
    "# print the five documents where the topic is most important\n",
    "print(\"Most important reviews in HORROR topic:\")\n",
    "i = 1\n",
    "num_doc = 5\n",
    "for idx in top_horror[:num_doc]:\n",
    "    print(\"{i}. {text}...\\n\".format(i=i, text=text_train.at[idx, 'review'][:200])) \n",
    "    i += 1"
   ]
  },
  {
   "cell_type": "markdown",
   "metadata": {
    "deletable": true,
    "editable": true
   },
   "source": [
    "Similarly, Topic 8 seems to be discussing movies that are adapted from novels. Jane Eyre seemed to bubble up to the top of this topic, with many of the terms highly associated with the topic being directly related to the movie adaptation of the novel (i.e. \"jane\", \"eyre\", \"dalton\", \"rochester\"). The top 4 reviews are, in fact, about the movie. However, the topic encompasses additional adaptations, in the fifth review disucssing the adaptation of The Robber Bride by Margaret Atwood."
   ]
  },
  {
   "cell_type": "code",
   "execution_count": 23,
   "metadata": {
    "collapsed": false,
    "deletable": true,
    "editable": true
   },
   "outputs": [
    {
     "name": "stdout",
     "output_type": "stream",
     "text": [
      "Most important reviews in BOOK topic:\n",
      "1. I felt duty bound to watch the 1983 Timothy Dalton / Zelah Clarke adaptation of \"Jane Eyre,\" because I'd just written an article about the 2006 BBC \"Jane Eyre\" for TheScreamOnline.  So, I approached w...\n",
      "\n",
      "2. The 1983 BBC production of \"Jane Eyre\" starring Zelah Clarke and Timothy Dalton (LOVE HIM) has always been and will always be my favorite Jane Eyre. If you watch any other version of Jane Eyre without...\n",
      "\n",
      "3. There are many adaptations of Charlotte Brontë's classic novel \"Jane Eyre\", and taking into consideration the numerous reviews written about them there is also a lively discussion on which of them is ...\n",
      "\n",
      "4. This TV production of 1970 starring Susannah York and George C. Scott is another proof of how difficult it is to adopt \"Jane Eyre\" to the screen, and how much can go wrong in doing so. It is true that...\n",
      "\n",
      "5. When I saw that Mary Louise Parker was associated with this epic novel turned film, I was intrigued. Being a fan of the book, I assumed she'd be playing Tony, Roz, or Charis, but more so, I was intrig...\n",
      "\n"
     ]
    }
   ],
   "source": [
    "# sort by weight of \"Book\" topic 8\n",
    "top_book = np.argsort(document_topics_nmf[:, 8])[::-1]\n",
    "\n",
    "# print the documents where the topic is most important\n",
    "print(\"Most important reviews in BOOK topic:\")\n",
    "i = 1\n",
    "num_doc = 5\n",
    "for idx in top_book[:num_doc]:\n",
    "    print(\"{i}. {text}...\\n\".format(i=i, text=text_train.at[idx, 'review'][:200])) \n",
    "    i += 1"
   ]
  },
  {
   "cell_type": "markdown",
   "metadata": {
    "deletable": true,
    "editable": true
   },
   "source": [
    "Below we will investigate the relationship of topic to sentiment. We will accomplish this by plotting an average sentiment for the top 1000 documents. Nearly all the topics have have sentiments above or close to 50% except for Topic 2. This suggests that Topic 2 tends to be associated with negative reviews. "
   ]
  },
  {
   "cell_type": "code",
   "execution_count": 24,
   "metadata": {
    "collapsed": false,
    "deletable": true,
    "editable": true
   },
   "outputs": [
    {
     "data": {
      "image/png": "[encoded data removed]",
      "text/plain": [
       "<Figure size 432x288 with 1 Axes>"
      ]
     },
     "metadata": {
      "needs_background": "light"
     },
     "output_type": "display_data"
    }
   ],
   "source": [
    "num_doc = 100\n",
    "\n",
    "importance = np.flip(document_topics_nmf.transpose().argsort(), axis = 1)\n",
    "sentiment_top = np.array([text_train['sentiment'][row] for row in importance])\n",
    "topn_topic_sent = np.mean(sentiment_top[:,:num_doc], axis = 1)\n",
    "top1000_topic_sent = np.mean(sentiment_top[:,:1000], axis = 1)\n",
    "\n",
    "fig, ax = plt.subplots()\n",
    "ind = np.arange(10)\n",
    "plt.bar(ind-.2, topn_topic_sent, width = 0.4, label=\"Top {num_doc}\".format(num_doc=num_doc))\n",
    "plt.bar(ind+.2, top1000_topic_sent, width = 0.4, label=\"Top 1000\")\n",
    "plt.title(\"Average Sentiment of Top {num_doc} Documents By Topic\".format(num_doc=num_doc))\n",
    "plt.xticks(ind, [\"Topic {i}\".format(i=i) for i in ind], rotation = 'vertical')\n",
    "ax.legend()\n",
    "plt.show()"
   ]
  },
  {
   "cell_type": "markdown",
   "metadata": {
    "deletable": true,
    "editable": true
   },
   "source": [
    "Printing the top documents in Topic 2, we can see that these are scathing reviews... The top words associated with topic 2 don't make that very clear, however. From the printed reviews there seems to be a preference for video game or video game adaptations as well.    "
   ]
  },
  {
   "cell_type": "code",
   "execution_count": 25,
   "metadata": {
    "collapsed": false,
    "deletable": true,
    "editable": true,
    "scrolled": true
   },
   "outputs": [
    {
     "name": "stdout",
     "output_type": "stream",
     "text": [
      "Most important reviews in topic 2:\n",
      "1. ***SPOILERS*** ***SPOILERS*** Continued...  From here on in the whole movie collapses in on itself. First we meet a rogue program with the indication we're gonna get ghosts and vampires and werewolves and the like. We get a guy with a retarded accent talking endless garbage, two 'ghosts' that serve ...\n",
      "\n",
      "2. Oh Dear Lord, How on Earth was any part of this film ever approved by anyone? It reeks of cheese from start to finish, but it's not even good cheese. It's the scummiest, moldiest, most tasteless cheese there is, and I cannot believe there is anyone out there who actually, truly enjoyed it. Yes, if y...\n",
      "\n",
      "3. *** Warning - this review contains \"plot spoilers,\" though nothing could \"spoil\" this movie any more than it already is. It really IS that bad. ***  Before I begin, I'd like to let everyone know that this definitely is one of those so-incredibly-bad-that-you-fall-over-laughing movies. If you're in a...\n",
      "\n",
      "4. Okay, so I'm not a big video game buff, but was the game House of the Dead really famous enough to make a movie from? Sure, they went as far as to actually put in quick video game clips throughout the movie, as though justifying any particular scene of violence, but there are dozens and dozens of ga...\n",
      "\n",
      "5. Well, maybe the PC version of this game was impressive. Maybe. I just finished playing the PS2 version and it's pretty much a complete mess.  There are a couple elements that are okay or promising. I'll mention those first because it will be over quickly. First, the idea of a historical GTA-like gam...\n",
      "\n"
     ]
    }
   ],
   "source": [
    "# sort by weight of \"RE\" topic 2\n",
    "topic_2 = np.argsort(document_topics_nmf[:, 2])[::-1]\n",
    "\n",
    "# print the documents where the topic is most important\n",
    "print(\"Most important reviews in topic 2:\")\n",
    "i = 1\n",
    "num_doc = 5\n",
    "for idx in topic_2[:num_doc]:\n",
    "    print(\"{i}. {text}...\\n\".format(i=i, text=text_train.at[idx, 'review'][:300])) \n",
    "    i += 1"
   ]
  },
  {
   "cell_type": "markdown",
   "metadata": {},
   "source": [
    "## 4. Store model"
   ]
  },
  {
   "cell_type": "markdown",
   "metadata": {},
   "source": [
    "### 4.1 Save model in ML repository"
   ]
  },
  {
   "cell_type": "code",
   "execution_count": 26,
   "metadata": {
    "collapsed": true
   },
   "outputs": [],
   "source": [
    "from dsx_ml.ml import save"
   ]
  },
  {
   "cell_type": "code",
   "execution_count": 27,
   "metadata": {
    "collapsed": false
   },
   "outputs": [
    {
     "name": "stderr",
     "output_type": "stream",
     "text": [
      "Using TensorFlow backend.\n"
     ]
    },
    {
     "name": "stdout",
     "output_type": "stream",
     "text": [
      "{'scoring_endpoint': 'https://dsxl-api/v3/project/score/Python35/scikit-learn-0.19/text-deployment-demo/simple-topic-modeling/2', 'path': '/user-home/1055/DSX_Projects/text-deployment-demo/models/simple-topic-modeling/2'}\n"
     ]
    }
   ],
   "source": [
    "deployment_info = save(name='simple-topic-modeling',\n",
    "                        model=pipe,\n",
    "                        algorithm_type='Classification', # Only classification and regression are supported\n",
    "                        description='This is the first simple topic modeling with NMF',\n",
    "                        source='simple-topic-modeling.ipynb')\n",
    "print(deployment_info)"
   ]
  },
  {
   "cell_type": "markdown",
   "metadata": {},
   "source": [
    "### 4.2 Test model in Models UI"
   ]
  },
  {
   "cell_type": "markdown",
   "metadata": {},
   "source": [
    "The UI doesn't support Unsupervised models with sklearn."
   ]
  },
  {
   "cell_type": "markdown",
   "metadata": {},
   "source": [
    "### 4.3 Test model with REST API call"
   ]
  },
  {
   "cell_type": "markdown",
   "metadata": {},
   "source": [
    "Similarly, we can't directly use the API that's automatically generated for Unsupervised models with sklearn."
   ]
  },
  {
   "cell_type": "markdown",
   "metadata": {},
   "source": [
    "### 4.4 Create a custom scoring script"
   ]
  },
  {
   "cell_type": "markdown",
   "metadata": {},
   "source": [
    "WS Local automatically support only classification and regression models for scikit-learn. Yet, deploying unsupervised models is also very easy and only requires a few steps."
   ]
  },
  {
   "cell_type": "markdown",
   "metadata": {},
   "source": [
    "**1. In the \"models\" section, select the model we just saved, and click on \"Generate custom scoring script\"**\n",
    "<img style=\"float: left;\" src=\"https://i.imgur.com/0LsTt5o.png\" alt=\"Step 1 - Create custom script\" width=900 />"
   ]
  },
  {
   "cell_type": "markdown",
   "metadata": {},
   "source": [
    "**2. This will generate a script with the same functions that are automatically generated when using the raw API/using the UI. Note that doing this is a good way of debugging a deployment that failed, in other cases. By default, the script is set to run as a web service. To debug it, we can set it as a job in the \"Run Configuration\" panel.**\n",
    "<img style=\"float: left;\" src=\"https://i.imgur.com/xi7vF9B.png\" alt=\"Step 2 - Modify custom script: switch to job\" width=900 />"
   ]
  },
  {
   "cell_type": "markdown",
   "metadata": {},
   "source": [
    "**3. To switch from classification to topic modeling, all we need to do is to identify the part where the predict() function is called, and switch it to transform() instead.**\n",
    "<img style=\"float: left;\" src=\"https://i.imgur.com/f1A4v5Q.png\" alt=\"Step 3 - Modify custom script: switch to transform()\" width=900 />"
   ]
  },
  {
   "cell_type": "markdown",
   "metadata": {},
   "source": [
    "**4. To try out the code modification, call the test_score() function within the script and print the result. Then save the script and run it. If the console output is hidden, drag it from the right of the screen.**\n",
    "<img style=\"float: left;\" src=\"https://i.imgur.com/v4yQHvK.png\" alt=\"Step 3 - Modify custom script: switch to transform()\" width=900 />"
   ]
  },
  {
   "cell_type": "markdown",
   "metadata": {},
   "source": [
    "**5. Once the code is running, switch the \"Run configuration\" back to \"Web Service\", save it, and select the run button again. The UI will show the steps necessary to call this newly created API to be able to score the model**\n",
    "<img style=\"float: left;\" src=\"https://i.imgur.com/GmmS5kf.png\" alt=\"Step 3 - Modify custom script: switch to transform()\" width=900 />"
   ]
  }
 ],
 "metadata": {
  "anaconda-cloud": {},
  "kernelspec": {
   "display_name": "Python3.5 with Watson Studio Spark 2.2.1",
   "language": "python",
   "name": "python3"
  },
  "language_info": {
   "codemirror_mode": {
    "name": "ipython",
    "version": 3
   },
   "file_extension": ".py",
   "mimetype": "text/x-python",
   "name": "python",
   "nbconvert_exporter": "python",
   "pygments_lexer": "ipython3",
   "version": "3.5.5"
  }
 },
 "nbformat": 4,
 "nbformat_minor": 1
}
